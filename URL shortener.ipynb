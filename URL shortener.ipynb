{
 "cells": [
  {
   "cell_type": "code",
   "execution_count": 6,
   "id": "4cfe3637",
   "metadata": {},
   "outputs": [
    {
     "name": "stdout",
     "output_type": "stream",
     "text": [
      "Collecting pyshorteners\n",
      "  Downloading pyshorteners-1.0.1.tar.gz (10.0 kB)\n",
      "Requirement already satisfied: requests in c:\\users\\anubha\\documents\\alaram\\lib\\site-packages (from pyshorteners) (2.31.0)\n",
      "Requirement already satisfied: urllib3<3,>=1.21.1 in c:\\users\\anubha\\documents\\alaram\\lib\\site-packages (from requests->pyshorteners) (1.26.4)\n",
      "Requirement already satisfied: certifi>=2017.4.17 in c:\\users\\anubha\\documents\\alaram\\lib\\site-packages (from requests->pyshorteners) (2020.12.5)\n",
      "Requirement already satisfied: idna<4,>=2.5 in c:\\users\\anubha\\documents\\alaram\\lib\\site-packages (from requests->pyshorteners) (2.10)\n",
      "Requirement already satisfied: charset-normalizer<4,>=2 in c:\\users\\anubha\\documents\\alaram\\lib\\site-packages (from requests->pyshorteners) (3.3.0)\n",
      "Building wheels for collected packages: pyshorteners\n",
      "  Building wheel for pyshorteners (setup.py): started\n",
      "  Building wheel for pyshorteners (setup.py): finished with status 'done'\n",
      "  Created wheel for pyshorteners: filename=pyshorteners-1.0.1-py3-none-any.whl size=17499 sha256=145fdcd5dd42e70f72b38a9026e72117ded5481bb23e56d03ef72fbabf5defea\n",
      "  Stored in directory: c:\\users\\anubha\\appdata\\local\\pip\\cache\\wheels\\0f\\6e\\88\\f0c854fa281b13d4997e9068dd69201e51c4b051c52c30b48d\n",
      "Successfully built pyshorteners\n",
      "Installing collected packages: pyshorteners\n",
      "Successfully installed pyshorteners-1.0.1\n",
      "Enter the URL to shorten: https://www.google.com/search?q=Nandini+Varshney&rlz=1C1CHBF_enIN883IN883&sourceid=chrome&ie=UTF-8#ip=1\n",
      "Shortened URL: https://tinyurl.com/ykntsc83\n"
     ]
    }
   ],
   "source": [
    "!pip install pyshorteners\n",
    "import pyshorteners\n",
    "\n",
    "def shorten_url(long_url):\n",
    "    s = pyshorteners.Shortener()\n",
    "    short_url = s.tinyurl.short(long_url)\n",
    "    return short_url\n",
    "\n",
    "if __name__ == \"__main__\":\n",
    "    long_url = input(\"Enter the URL to shorten: \")\n",
    "    short_url = shorten_url(long_url)\n",
    "    print(f\"Shortened URL: {short_url}\")\n"
   ]
  },
  {
   "cell_type": "code",
   "execution_count": null,
   "id": "29f17697",
   "metadata": {},
   "outputs": [],
   "source": []
  }
 ],
 "metadata": {
  "kernelspec": {
   "display_name": "Python 3",
   "language": "python",
   "name": "python3"
  },
  "language_info": {
   "codemirror_mode": {
    "name": "ipython",
    "version": 3
   },
   "file_extension": ".py",
   "mimetype": "text/x-python",
   "name": "python",
   "nbconvert_exporter": "python",
   "pygments_lexer": "ipython3",
   "version": "3.8.8"
  }
 },
 "nbformat": 4,
 "nbformat_minor": 5
}
