{
  "nbformat": 4,
  "nbformat_minor": 0,
  "metadata": {
    "colab": {
      "provenance": []
    },
    "kernelspec": {
      "name": "python3",
      "display_name": "Python 3"
    },
    "language_info": {
      "name": "python"
    }
  },
  "cells": [
    {
      "cell_type": "code",
      "execution_count": 1,
      "metadata": {
        "colab": {
          "base_uri": "https://localhost:8080/"
        },
        "id": "d1iYlC9JpK2t",
        "outputId": "55e37715-47ef-4bc2-f83a-ffe5072ba0d8"
      },
      "outputs": [
        {
          "output_type": "stream",
          "name": "stdout",
          "text": [
            "Welcome to Hangman!\n",
            "Word: _____\n",
            "Guess a letter: date\n",
            "Wrong guess! Attempts left: 5\n",
            "Word: _____\n",
            "Guess a letter: fif\n",
            "Wrong guess! Attempts left: 4\n",
            "Word: _____\n",
            "Guess a letter: fig\n",
            "Wrong guess! Attempts left: 3\n",
            "Word: _____\n",
            "Guess a letter: grape\n",
            "Wrong guess! Attempts left: 2\n",
            "Word: _____\n",
            "Guess a letter: cherry\n",
            "Wrong guess! Attempts left: 1\n",
            "Word: _____\n",
            "Guess a letter: apple\n",
            "Word: _____\n",
            "Guess a letter: banana\n",
            "Wrong guess! Attempts left: 0\n",
            "Sorry, you lost! The word was apple.\n"
          ]
        }
      ],
      "source": [
        "import random\n",
        "\n",
        "def choose_word():\n",
        "    words = ['apple', 'banana', 'cherry', 'date', 'elderberry', 'fig', 'grape']\n",
        "    return random.choice(words)\n",
        "\n",
        "def display_word(word, guessed_letters):\n",
        "    display = ''\n",
        "    for letter in word:\n",
        "        if letter in guessed_letters:\n",
        "            display += letter\n",
        "        else:\n",
        "            display += '_'\n",
        "    return display\n",
        "\n",
        "def hangman():\n",
        "    word = choose_word()\n",
        "    guessed_letters = []\n",
        "    max_attempts = 6\n",
        "\n",
        "    print(\"Welcome to Hangman!\")\n",
        "    while max_attempts > 0:\n",
        "        print(f\"Word: {display_word(word, guessed_letters)}\")\n",
        "        guess = input(\"Guess a letter: \").lower()\n",
        "\n",
        "        if guess in guessed_letters:\n",
        "            print(\"You already guessed that letter.\")\n",
        "            continue\n",
        "\n",
        "        guessed_letters.append(guess)\n",
        "\n",
        "        if guess not in word:\n",
        "            max_attempts -= 1\n",
        "            print(f\"Wrong guess! Attempts left: {max_attempts}\")\n",
        "            if max_attempts == 0:\n",
        "                print(f\"Sorry, you lost! The word was {word}.\")\n",
        "                break\n",
        "        else:\n",
        "            if all(letter in guessed_letters for letter in word):\n",
        "                print(f\"Congratulations! You guessed the word: {word}.\")\n",
        "                break\n",
        "\n",
        "hangman()\n"
      ]
    }
  ]
}