{
  "nbformat": 4,
  "nbformat_minor": 0,
  "metadata": {
    "colab": {
      "provenance": []
    },
    "kernelspec": {
      "name": "python3",
      "display_name": "Python 3"
    },
    "language_info": {
      "name": "python"
    }
  },
  "cells": [
    {
      "cell_type": "code",
      "source": [
        "import random\n",
        "\n",
        "# Define a simple trading bot\n",
        "class CryptoTradingBot:\n",
        "    def __init__(self, starting_balance):\n",
        "        self.balance = starting_balance\n",
        "\n",
        "    def buy(self, symbol, amount, price):\n",
        "        self.balance -= amount * price\n",
        "        print(f\"Bought {amount} {symbol} at {price} each.\")\n",
        "\n",
        "    def sell(self, symbol, amount, price):\n",
        "        self.balance += amount * price\n",
        "        print(f\"Sold {amount} {symbol} at {price} each.\")\n",
        "\n",
        "    def get_balance(self):\n",
        "        return self.balance\n",
        "\n",
        "# Example usage\n",
        "starting_balance = 1000\n",
        "bot = CryptoTradingBot(starting_balance)\n",
        "\n",
        "# Simulate trades\n",
        "crypto_symbol = 'BTC'\n",
        "amount = 1\n",
        "buy_price = 50000\n",
        "sell_price = 55000\n",
        "\n",
        "bot.buy(crypto_symbol, amount, buy_price)\n",
        "print(f\"Current Balance: {bot.get_balance()}\")\n",
        "bot.sell(crypto_symbol, amount, sell_price)\n",
        "print(f\"Current Balance: {bot.get_balance()}\")\n"
      ],
      "metadata": {
        "colab": {
          "base_uri": "https://localhost:8080/"
        },
        "id": "4PlB6jwroVwL",
        "outputId": "bbacc2d5-274f-4aed-cdaf-6491a427d8ca"
      },
      "execution_count": 12,
      "outputs": [
        {
          "output_type": "stream",
          "name": "stdout",
          "text": [
            "Bought 1 BTC at 50000 each.\n",
            "Current Balance: -49000\n",
            "Sold 1 BTC at 55000 each.\n",
            "Current Balance: 6000\n"
          ]
        }
      ]
    }
  ]
}